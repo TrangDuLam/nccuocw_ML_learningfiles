{
 "cells": [
  {
   "cell_type": "markdown",
   "metadata": {},
   "source": [
    "這次的作業是這樣的，希望你能利用本週教的keras functional API，\n",
    "\n",
    "設計一個mnist的分類模型，這個模型可以一次訓練十個獨立的全連接層，\n",
    "\n",
    "每一個獨立的全連接層的目標是學習答案的十維向量裡的其中一個element，\n",
    "\n",
    "每個全連接層有十個神經元，且都跟隨一個average layer把它的輸出做平均，\n",
    "\n",
    "最後再把這十個層的輸出連接起來，取softmax之後比較結果。"
   ]
  },
  {
   "cell_type": "code",
   "execution_count": 10,
   "metadata": {},
   "outputs": [],
   "source": [
    "#keras \n",
    "import keras\n",
    "import keras.backend as K\n",
    "from keras.models import Model\n",
    "from keras.layers import Dense, Activation, Flatten, Permute, Conv1D, Conv2D, Add, Conv2DTranspose \n",
    "from keras.optimizers import Adam\n",
    "from keras.layers import Input, Dense, concatenate, Lambda, Conv2D, Reshape, BatchNormalization, Lambda, Activation \n",
    "from keras.callbacks import ModelCheckpoint\n",
    "from keras.regularizers import l2\n",
    "from keras.activations import softmax\n",
    "from keras.datasets import mnist\n",
    "from keras.utils import plot_model\n",
    "\n",
    "# tensorflow\n",
    "import tensorflow as tf\n",
    "\n",
    "#numpy\n",
    "import numpy as np"
   ]
  },
  {
   "cell_type": "code",
   "execution_count": 11,
   "metadata": {},
   "outputs": [
    {
     "name": "stdout",
     "output_type": "stream",
     "text": [
      "x_train shape: (60000, 28, 28)\n",
      "60000 train samples\n",
      "10000 test samples\n"
     ]
    }
   ],
   "source": [
    "# 把mnist load 進來\n",
    "(x_train, y_train), (x_test, y_test) = mnist.load_data()\n",
    "x_train = x_train.astype('float32')\n",
    "x_test = x_test.astype('float32')\n",
    "\n",
    "# 把每個像素的值從(0~255)->(0, 1)\n",
    "x_train /= 255\n",
    "x_test /= 255\n",
    "\n",
    "print('x_train shape:', x_train.shape)\n",
    "print(x_train.shape[0], 'train samples')\n",
    "print(x_test.shape[0], 'test samples')\n",
    "\n",
    "# convert class vectors to binary class matrices\n",
    "y_train = keras.utils.to_categorical(y_train, 10)\n",
    "y_test = keras.utils.to_categorical(y_test, 10)"
   ]
  },
  {
   "cell_type": "code",
   "execution_count": 12,
   "metadata": {},
   "outputs": [],
   "source": [
    "# 定義一下Average\n",
    "# 喔，keepdims這個參數在這裏真是他X的重要\n",
    "def average_function(inputs):\n",
    "    return K.mean(inputs, axis=-1, keepdims=True)\n",
    "\n",
    "#把定義好的Average用Lambda封裝起來變成layer\n",
    "average_layer = Lambda(average_function)"
   ]
  },
  {
   "cell_type": "code",
   "execution_count": 13,
   "metadata": {},
   "outputs": [],
   "source": [
    "# Model \n",
    "model_input = Input(shape=(28, 28))\n",
    "flatten = Flatten()(model_input)"
   ]
  },
  {
   "cell_type": "markdown",
   "metadata": {},
   "source": [
    "# 作業開始"
   ]
  },
  {
   "cell_type": "code",
   "execution_count": 14,
   "metadata": {},
   "outputs": [],
   "source": [
    "# 請給我十個分開的Dense層，每個層裡面有十個神經元，且輸入都來自flatten\n",
    "# activation function請用relu\n",
    "Dense_layer_list = []\n",
    "\n",
    "for i in range(0, 10) :   #list from 0 to the upper-bound minu 1 -> rang (i, j) i ~ j-1\n",
    "    layer_dense_new = Dense(10, activation = 'relu')\n",
    "    x = layer_dense_new(flatten)\n",
    "    Dense_layer_list.append(x)\n",
    "\n",
    "# 每一個Dense層後面都必須再接一個 average_layer，然後把這十個層整理成一個list\n",
    "# 舉例： \n",
    "# x_1 = Dense(10)\n",
    "# avg_1 = averge_layer(x_1)\n",
    "# list.append(...)\n",
    "# 這不是完整的答案，只是個提示。\n",
    "# 且答案不侷限於上述寫法，有更簡潔明快的做法\n",
    "average_list = []\n",
    "\n",
    "for i in range (0, 10) :\n",
    "    avg_new = average_layer(Dense_layer_list[i])\n",
    "    average_list.append(avg_new)\n",
    "\n",
    "# 請把這十個層用學長教過的concatenate層連接起來（基本上就是把上面的average_list放進去並加上其他參數。）\n",
    "concatenate_layer = concatenate(average_list)\n",
    "\n",
    "# Hint: 這次的作業就只有上面的 pass 跟 None 的部分，\n",
    "# 當然你也可以大方地使用 python 的 list comprehension 功能，\n",
    "# 這樣可以少寫幾行。\n"
   ]
  },
  {
   "cell_type": "markdown",
   "metadata": {},
   "source": [
    "# 作業結束"
   ]
  },
  {
   "cell_type": "code",
   "execution_count": 15,
   "metadata": {},
   "outputs": [
    {
     "name": "stdout",
     "output_type": "stream",
     "text": [
      "Model: \"model_2\"\n",
      "__________________________________________________________________________________________________\n",
      "Layer (type)                    Output Shape         Param #     Connected to                     \n",
      "==================================================================================================\n",
      "input_2 (InputLayer)            (None, 28, 28)       0                                            \n",
      "__________________________________________________________________________________________________\n",
      "flatten_2 (Flatten)             (None, 784)          0           input_2[0][0]                    \n",
      "__________________________________________________________________________________________________\n",
      "dense_11 (Dense)                (None, 10)           7850        flatten_2[0][0]                  \n",
      "__________________________________________________________________________________________________\n",
      "dense_12 (Dense)                (None, 10)           7850        flatten_2[0][0]                  \n",
      "__________________________________________________________________________________________________\n",
      "dense_13 (Dense)                (None, 10)           7850        flatten_2[0][0]                  \n",
      "__________________________________________________________________________________________________\n",
      "dense_14 (Dense)                (None, 10)           7850        flatten_2[0][0]                  \n",
      "__________________________________________________________________________________________________\n",
      "dense_15 (Dense)                (None, 10)           7850        flatten_2[0][0]                  \n",
      "__________________________________________________________________________________________________\n",
      "dense_16 (Dense)                (None, 10)           7850        flatten_2[0][0]                  \n",
      "__________________________________________________________________________________________________\n",
      "dense_17 (Dense)                (None, 10)           7850        flatten_2[0][0]                  \n",
      "__________________________________________________________________________________________________\n",
      "dense_18 (Dense)                (None, 10)           7850        flatten_2[0][0]                  \n",
      "__________________________________________________________________________________________________\n",
      "dense_19 (Dense)                (None, 10)           7850        flatten_2[0][0]                  \n",
      "__________________________________________________________________________________________________\n",
      "dense_20 (Dense)                (None, 10)           7850        flatten_2[0][0]                  \n",
      "__________________________________________________________________________________________________\n",
      "lambda_2 (Lambda)               (None, 1)            0           dense_11[0][0]                   \n",
      "                                                                 dense_12[0][0]                   \n",
      "                                                                 dense_13[0][0]                   \n",
      "                                                                 dense_14[0][0]                   \n",
      "                                                                 dense_15[0][0]                   \n",
      "                                                                 dense_16[0][0]                   \n",
      "                                                                 dense_17[0][0]                   \n",
      "                                                                 dense_18[0][0]                   \n",
      "                                                                 dense_19[0][0]                   \n",
      "                                                                 dense_20[0][0]                   \n",
      "__________________________________________________________________________________________________\n",
      "concatenate_2 (Concatenate)     (None, 10)           0           lambda_2[0][0]                   \n",
      "                                                                 lambda_2[1][0]                   \n",
      "                                                                 lambda_2[2][0]                   \n",
      "                                                                 lambda_2[3][0]                   \n",
      "                                                                 lambda_2[4][0]                   \n",
      "                                                                 lambda_2[5][0]                   \n",
      "                                                                 lambda_2[6][0]                   \n",
      "                                                                 lambda_2[7][0]                   \n",
      "                                                                 lambda_2[8][0]                   \n",
      "                                                                 lambda_2[9][0]                   \n",
      "__________________________________________________________________________________________________\n",
      "activation_2 (Activation)       (None, 10)           0           concatenate_2[0][0]              \n",
      "==================================================================================================\n",
      "Total params: 78,500\n",
      "Trainable params: 78,500\n",
      "Non-trainable params: 0\n",
      "__________________________________________________________________________________________________\n",
      "None\n"
     ]
    }
   ],
   "source": [
    "#加一個softmax\n",
    "model_output = Activation(\"softmax\")(concatenate_layer)\n",
    "\n",
    "model = Model(model_input, model_output)\n",
    "\n",
    "\n",
    "# 你的model.summary理論上會長這樣\n",
    "print(model.summary())"
   ]
  },
  {
   "cell_type": "code",
   "execution_count": 16,
   "metadata": {},
   "outputs": [
    {
     "name": "stdout",
     "output_type": "stream",
     "text": [
      "WARNING:tensorflow:From C:\\Users\\user\\anaconda3\\lib\\site-packages\\keras\\backend\\tensorflow_backend.py:422: The name tf.global_variables is deprecated. Please use tf.compat.v1.global_variables instead.\n",
      "\n",
      "Train on 60000 samples, validate on 10000 samples\n",
      "Epoch 1/10\n",
      "60000/60000 [==============================] - 7s 116us/step - loss: 0.4990 - accuracy: 0.8798 - val_loss: 0.2973 - val_accuracy: 0.9190\n",
      "Epoch 2/10\n",
      "60000/60000 [==============================] - 7s 114us/step - loss: 0.2883 - accuracy: 0.9207 - val_loss: 0.2586 - val_accuracy: 0.9287\n",
      "Epoch 3/10\n",
      "60000/60000 [==============================] - 7s 111us/step - loss: 0.2565 - accuracy: 0.9288 - val_loss: 0.2410 - val_accuracy: 0.9311\n",
      "Epoch 4/10\n",
      "60000/60000 [==============================] - 7s 110us/step - loss: 0.2379 - accuracy: 0.9336 - val_loss: 0.2293 - val_accuracy: 0.9345\n",
      "Epoch 5/10\n",
      "60000/60000 [==============================] - 7s 110us/step - loss: 0.2238 - accuracy: 0.9374 - val_loss: 0.2202 - val_accuracy: 0.9367\n",
      "Epoch 6/10\n",
      "60000/60000 [==============================] - 9s 151us/step - loss: 0.2122 - accuracy: 0.9408 - val_loss: 0.2116 - val_accuracy: 0.9396\n",
      "Epoch 7/10\n",
      "60000/60000 [==============================] - 10s 170us/step - loss: 0.2021 - accuracy: 0.9430 - val_loss: 0.2019 - val_accuracy: 0.9413\n",
      "Epoch 8/10\n",
      "60000/60000 [==============================] - 9s 156us/step - loss: 0.1929 - accuracy: 0.9452 - val_loss: 0.1961 - val_accuracy: 0.9426\n",
      "Epoch 9/10\n",
      "60000/60000 [==============================] - 9s 152us/step - loss: 0.1851 - accuracy: 0.9474 - val_loss: 0.1900 - val_accuracy: 0.9447\n",
      "Epoch 10/10\n",
      "60000/60000 [==============================] - 8s 137us/step - loss: 0.1776 - accuracy: 0.9492 - val_loss: 0.1849 - val_accuracy: 0.9465\n"
     ]
    },
    {
     "data": {
      "text/plain": [
       "<keras.callbacks.callbacks.History at 0x18243c7b948>"
      ]
     },
     "execution_count": 16,
     "metadata": {},
     "output_type": "execute_result"
    }
   ],
   "source": [
    "# compile & fit\n",
    "model.compile(loss=keras.losses.categorical_crossentropy,\n",
    "              optimizer=\"adam\",\n",
    "              metrics=['accuracy'])\n",
    "\n",
    "model.fit(x_train, y_train,\n",
    "          batch_size=32,\n",
    "          epochs=10,\n",
    "          verbose=1,\n",
    "          validation_data=(x_test, y_test))"
   ]
  },
  {
   "cell_type": "code",
   "execution_count": 17,
   "metadata": {},
   "outputs": [
    {
     "data": {
      "text/plain": [
       "[<tf.Tensor 'lambda_2/Mean:0' shape=(?, 1) dtype=float32>,\n",
       " <tf.Tensor 'lambda_2_1/Mean:0' shape=(?, 1) dtype=float32>,\n",
       " <tf.Tensor 'lambda_2_2/Mean:0' shape=(?, 1) dtype=float32>,\n",
       " <tf.Tensor 'lambda_2_3/Mean:0' shape=(?, 1) dtype=float32>,\n",
       " <tf.Tensor 'lambda_2_4/Mean:0' shape=(?, 1) dtype=float32>,\n",
       " <tf.Tensor 'lambda_2_5/Mean:0' shape=(?, 1) dtype=float32>,\n",
       " <tf.Tensor 'lambda_2_6/Mean:0' shape=(?, 1) dtype=float32>,\n",
       " <tf.Tensor 'lambda_2_7/Mean:0' shape=(?, 1) dtype=float32>,\n",
       " <tf.Tensor 'lambda_2_8/Mean:0' shape=(?, 1) dtype=float32>,\n",
       " <tf.Tensor 'lambda_2_9/Mean:0' shape=(?, 1) dtype=float32>]"
      ]
     },
     "execution_count": 17,
     "metadata": {},
     "output_type": "execute_result"
    }
   ],
   "source": [
    "average_list"
   ]
  },
  {
   "cell_type": "code",
   "execution_count": 18,
   "metadata": {},
   "outputs": [
    {
     "data": {
      "text/plain": [
       "<tf.Tensor 'concatenate_2/concat:0' shape=(?, 10) dtype=float32>"
      ]
     },
     "execution_count": 18,
     "metadata": {},
     "output_type": "execute_result"
    }
   ],
   "source": [
    "concatenate_layer"
   ]
  },
  {
   "cell_type": "code",
   "execution_count": null,
   "metadata": {},
   "outputs": [],
   "source": []
  }
 ],
 "metadata": {
  "kernelspec": {
   "display_name": "Python 3.7.6 64-bit ('base': conda)",
   "language": "python",
   "name": "python37664bitbaseconda0ce9368b2d704c2e9be59ed432e4e65b"
  },
  "language_info": {
   "codemirror_mode": {
    "name": "ipython",
    "version": 3
   },
   "file_extension": ".py",
   "mimetype": "text/x-python",
   "name": "python",
   "nbconvert_exporter": "python",
   "pygments_lexer": "ipython3",
   "version": "3.7.6"
  }
 },
 "nbformat": 4,
 "nbformat_minor": 2
}
